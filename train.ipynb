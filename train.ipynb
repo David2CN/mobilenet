{
 "cells": [
  {
   "cell_type": "code",
   "execution_count": 1,
   "id": "5fe4d016",
   "metadata": {},
   "outputs": [],
   "source": [
    "import torch\n",
    "import numpy as np\n",
    "import matplotlib.pyplot as plt\n",
    "from models import MobileNet\n",
    "from datasets import train_data, augment_data, AugDataset, get_loaders\n",
    "from utils import train, test\n",
    "from pathlib import Path\n",
    "from torch.utils.tensorboard import SummaryWriter\n",
    "from torch.utils.data import ConcatDataset"
   ]
  },
  {
   "cell_type": "code",
   "execution_count": 2,
   "id": "85a5f8e4",
   "metadata": {},
   "outputs": [
    {
     "data": {
      "text/plain": [
       "50000"
      ]
     },
     "execution_count": 2,
     "metadata": {},
     "output_type": "execute_result"
    }
   ],
   "source": [
    "len(train_data)"
   ]
  },
  {
   "cell_type": "code",
   "execution_count": 3,
   "id": "4a042d4a",
   "metadata": {},
   "outputs": [],
   "source": [
    "# # augment train data\n",
    "# aug_train = augment_data(train_data)\n",
    "# aug_dataset = AugDataset(*aug_train)\n",
    "# train_data = ConcatDataset((train_data, aug_dataset))"
   ]
  },
  {
   "cell_type": "code",
   "execution_count": 4,
   "id": "7c0b413f",
   "metadata": {},
   "outputs": [],
   "source": [
    "batch_size = 32\n",
    "data_loaders, data_sizes = get_loaders(train_data, batch_size=batch_size, val_size=0.1)"
   ]
  },
  {
   "cell_type": "code",
   "execution_count": 5,
   "id": "ca994357",
   "metadata": {},
   "outputs": [
    {
     "data": {
      "text/plain": [
       "{'train': <torch.utils.data.dataloader.DataLoader at 0x2079e91af50>,\n",
       " 'val': <torch.utils.data.dataloader.DataLoader at 0x2079e91a5f0>,\n",
       " 'test': <torch.utils.data.dataloader.DataLoader at 0x2079e91ae90>}"
      ]
     },
     "execution_count": 5,
     "metadata": {},
     "output_type": "execute_result"
    }
   ],
   "source": [
    "data_loaders"
   ]
  },
  {
   "cell_type": "code",
   "execution_count": 6,
   "id": "bf604674",
   "metadata": {},
   "outputs": [
    {
     "data": {
      "text/plain": [
       "{'train': 45000, 'val': 5000, 'test': 10000}"
      ]
     },
     "execution_count": 6,
     "metadata": {},
     "output_type": "execute_result"
    }
   ],
   "source": [
    "data_sizes"
   ]
  },
  {
   "cell_type": "code",
   "execution_count": 7,
   "id": "1abd89d9",
   "metadata": {},
   "outputs": [],
   "source": [
    "classes = ['airplane', 'automobile', 'bird', 'cat', 'deer',\n",
    "           'dog', 'frog', 'horse', 'ship', 'truck']"
   ]
  },
  {
   "cell_type": "code",
   "execution_count": 8,
   "id": "9ccd107c",
   "metadata": {},
   "outputs": [],
   "source": [
    "def tensor_to_img(img, upsample=False):\n",
    "    img = img / 2 + 0.5  # unnormalize\n",
    "    return np.transpose(img, (1, 2, 0))  "
   ]
  },
  {
   "cell_type": "code",
   "execution_count": 9,
   "id": "a4034820",
   "metadata": {},
   "outputs": [
    {
     "data": {
      "image/png": "[encoded data removed]",
      "text/plain": [
       "<Figure size 1200x600 with 3 Axes>"
      ]
     },
     "metadata": {},
     "output_type": "display_data"
    }
   ],
   "source": [
    "dataiter = iter(data_loaders[\"train\"])\n",
    "images, labels = dataiter.next()\n",
    "\n",
    "fig = plt.figure(figsize=(12, 6))\n",
    "for idx in np.arange(3):\n",
    "    ax = fig.add_subplot(1, 3, idx+1, xticks=[], yticks=[])\n",
    "    ax.imshow(tensor_to_img(images[idx]))\n",
    "    ax.set_title(f\"{classes[labels[idx]]}\")"
   ]
  },
  {
   "cell_type": "code",
   "execution_count": 10,
   "id": "8712735d",
   "metadata": {},
   "outputs": [
    {
     "name": "stdout",
     "output_type": "stream",
     "text": [
      "CUDA is available...\n"
     ]
    }
   ],
   "source": [
    "cuda = torch.cuda.is_available()\n",
    "\n",
    "if cuda:\n",
    "    print(\"CUDA is available...\")\n",
    "else:\n",
    "    print(\"CUDA is not available!\")"
   ]
  },
  {
   "cell_type": "code",
   "execution_count": 11,
   "id": "903bcdfb",
   "metadata": {},
   "outputs": [],
   "source": [
    "# instantiate model\n",
    "model = MobileNet(classes=10, upsample_input=7)\n",
    "if cuda:\n",
    "    model.cuda()\n",
    "\n",
    "lr = 1e-2\n",
    "decay = 1e-5\n",
    "optimizer = torch.optim.Adam(model.parameters(), lr=lr, weight_decay=decay)\n",
    "criterion = torch.nn.CrossEntropyLoss()"
   ]
  },
  {
   "cell_type": "code",
   "execution_count": 12,
   "id": "63d13af5",
   "metadata": {},
   "outputs": [],
   "source": [
    "# tensorboard logs\n",
    "run = \"run1\"\n",
    "writer =  SummaryWriter(f'logs/{run}')\n",
    "model_path = f\"./models/{run}/\"\n",
    "Path(model_path).mkdir(exist_ok=True)"
   ]
  },
  {
   "cell_type": "code",
   "execution_count": null,
   "id": "d8d446b1",
   "metadata": {},
   "outputs": [
    {
     "name": "stderr",
     "output_type": "stream",
     "text": [
      "100%|██████████████████████████████████████████████████████████████████████████████| 1407/1407 [05:08<00:00,  4.57it/s]\n",
      "100%|████████████████████████████████████████████████████████████████████████████████| 157/157 [00:09<00:00, 16.11it/s]\n"
     ]
    },
    {
     "name": "stdout",
     "output_type": "stream",
     "text": [
      "Epoch 1/20: loss- 1.533, acc- 0.435, val_loss- 1.379, val_acc- 0.520\n",
      "val_loss decreased from inf to 1.3790. saving model ...\n"
     ]
    },
    {
     "name": "stderr",
     "output_type": "stream",
     "text": [
      "100%|██████████████████████████████████████████████████████████████████████████████| 1407/1407 [05:05<00:00,  4.60it/s]\n",
      "100%|████████████████████████████████████████████████████████████████████████████████| 157/157 [00:09<00:00, 16.08it/s]\n"
     ]
    },
    {
     "name": "stdout",
     "output_type": "stream",
     "text": [
      "Epoch 2/20: loss- 1.015, acc- 0.643, val_loss- 1.269, val_acc- 0.572\n",
      "val_loss decreased from 1.3790 to 1.2693. saving model ...\n"
     ]
    },
    {
     "name": "stderr",
     "output_type": "stream",
     "text": [
      "100%|██████████████████████████████████████████████████████████████████████████████| 1407/1407 [05:04<00:00,  4.62it/s]\n",
      "100%|████████████████████████████████████████████████████████████████████████████████| 157/157 [00:09<00:00, 16.14it/s]\n"
     ]
    },
    {
     "name": "stdout",
     "output_type": "stream",
     "text": [
      "Epoch 3/20: loss- 0.811, acc- 0.717, val_loss- 0.741, val_acc- 0.741\n",
      "val_loss decreased from 1.2693 to 0.7411. saving model ...\n"
     ]
    },
    {
     "name": "stderr",
     "output_type": "stream",
     "text": [
      "100%|██████████████████████████████████████████████████████████████████████████████| 1407/1407 [05:04<00:00,  4.62it/s]\n",
      "100%|████████████████████████████████████████████████████████████████████████████████| 157/157 [00:09<00:00, 16.09it/s]\n"
     ]
    },
    {
     "name": "stdout",
     "output_type": "stream",
     "text": [
      "Epoch 4/20: loss- 0.714, acc- 0.756, val_loss- 0.809, val_acc- 0.715\n"
     ]
    },
    {
     "name": "stderr",
     "output_type": "stream",
     "text": [
      "100%|██████████████████████████████████████████████████████████████████████████████| 1407/1407 [05:03<00:00,  4.64it/s]\n",
      "100%|████████████████████████████████████████████████████████████████████████████████| 157/157 [00:09<00:00, 16.20it/s]\n"
     ]
    },
    {
     "name": "stdout",
     "output_type": "stream",
     "text": [
      "Epoch 5/20: loss- 0.645, acc- 0.777, val_loss- 0.718, val_acc- 0.760\n",
      "val_loss decreased from 0.7411 to 0.7177. saving model ...\n"
     ]
    },
    {
     "name": "stderr",
     "output_type": "stream",
     "text": [
      "100%|██████████████████████████████████████████████████████████████████████████████| 1407/1407 [05:02<00:00,  4.65it/s]\n",
      "100%|████████████████████████████████████████████████████████████████████████████████| 157/157 [00:09<00:00, 16.04it/s]\n"
     ]
    },
    {
     "name": "stdout",
     "output_type": "stream",
     "text": [
      "Epoch 6/20: loss- 0.598, acc- 0.794, val_loss- 0.627, val_acc- 0.791\n",
      "val_loss decreased from 0.7177 to 0.6270. saving model ...\n"
     ]
    },
    {
     "name": "stderr",
     "output_type": "stream",
     "text": [
      " 20%|███████████████▋                                                               | 279/1407 [01:00<04:05,  4.60it/s]"
     ]
    }
   ],
   "source": [
    "initial_epochs = 0\n",
    "n_epochs = 20\n",
    "\n",
    "train(model, data_loaders=data_loaders, data_sizes=data_sizes,\n",
    "        optimizer=optimizer, criterion=criterion, epochs=n_epochs,\n",
    "         model_path=model_path, writer=writer, initial_epochs=initial_epochs)"
   ]
  },
  {
   "cell_type": "code",
   "execution_count": 13,
   "id": "d3e8d55b",
   "metadata": {},
   "outputs": [
    {
     "data": {
      "text/plain": [
       "<All keys matched successfully>"
      ]
     },
     "execution_count": 13,
     "metadata": {},
     "output_type": "execute_result"
    }
   ],
   "source": [
    "best_model = r\"./models/run1/model.28-0.5611.pt\"\n",
    "model.load_state_dict(torch.load(best_model))"
   ]
  },
  {
   "cell_type": "code",
   "execution_count": 14,
   "id": "fb07144b",
   "metadata": {},
   "outputs": [
    {
     "name": "stderr",
     "output_type": "stream",
     "text": [
      "100%|████████████████████████████████████████████████████████████████████████████████| 157/157 [00:03<00:00, 39.63it/s]"
     ]
    },
    {
     "name": "stdout",
     "output_type": "stream",
     "text": [
      "Test Accuracy of airplane: 75.40%\n",
      "Test Accuracy of automobile: 92.00%\n",
      "Test Accuracy of bird: 79.70%\n",
      "Test Accuracy of cat: 65.30%\n",
      "Test Accuracy of deer: 76.60%\n",
      "Test Accuracy of dog: 68.00%\n",
      "Test Accuracy of frog: 87.60%\n",
      "Test Accuracy of horse: 80.40%\n",
      "Test Accuracy of ship: 90.90%\n",
      "Test Accuracy of truck: 83.80%\n",
      "Test Accuracy (Overall): 79.97%\n"
     ]
    },
    {
     "name": "stderr",
     "output_type": "stream",
     "text": [
      "\n"
     ]
    }
   ],
   "source": [
    "test(model, data_loaders=data_loaders, writer=writer)"
   ]
  },
  {
   "cell_type": "code",
   "execution_count": null,
   "id": "aca74983",
   "metadata": {},
   "outputs": [],
   "source": []
  }
 ],
 "metadata": {
  "kernelspec": {
   "display_name": "Python 3 (ipykernel)",
   "language": "python",
   "name": "python3"
  },
  "language_info": {
   "codemirror_mode": {
    "name": "ipython",
    "version": 3
   },
   "file_extension": ".py",
   "mimetype": "text/x-python",
   "name": "python",
   "nbconvert_exporter": "python",
   "pygments_lexer": "ipython3",
   "version": "3.10.6"
  },
  "vscode": {
   "interpreter": {
    "hash": "570feb405e2e27c949193ac68f46852414290d515b0ba6e5d90d076ed2284471"
   }
  }
 },
 "nbformat": 4,
 "nbformat_minor": 5
}
