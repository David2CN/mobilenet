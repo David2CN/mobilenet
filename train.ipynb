{
 "cells": [
  {
   "cell_type": "code",
   "execution_count": 1,
   "id": "5fe4d016",
   "metadata": {},
   "outputs": [],
   "source": [
    "import torch\n",
    "import numpy as np\n",
    "import matplotlib.pyplot as plt\n",
    "from models import MobileNet\n",
    "from datasets import get_dataloaders\n",
    "from utils import train, test\n",
    "from pathlib import Path\n",
    "from torch.utils.tensorboard import SummaryWriter"
   ]
  },
  {
   "cell_type": "code",
   "execution_count": 2,
   "id": "7c0b413f",
   "metadata": {},
   "outputs": [],
   "source": [
    "batch_size = 32\n",
    "data_loaders, data_sizes = get_dataloaders(batch_size=batch_size, val_size=0.1)"
   ]
  },
  {
   "cell_type": "code",
   "execution_count": 3,
   "id": "ca994357",
   "metadata": {},
   "outputs": [
    {
     "data": {
      "text/plain": [
       "{'train': <torch.utils.data.dataloader.DataLoader at 0x2a23fd2e5f0>,\n",
       " 'val': <torch.utils.data.dataloader.DataLoader at 0x2a23fd2e350>,\n",
       " 'test': <torch.utils.data.dataloader.DataLoader at 0x2a23fd2e1d0>}"
      ]
     },
     "execution_count": 3,
     "metadata": {},
     "output_type": "execute_result"
    }
   ],
   "source": [
    "data_loaders"
   ]
  },
  {
   "cell_type": "code",
   "execution_count": 4,
   "id": "bf604674",
   "metadata": {},
   "outputs": [
    {
     "data": {
      "text/plain": [
       "{'train': 45000, 'val': 5000, 'test': 10000}"
      ]
     },
     "execution_count": 4,
     "metadata": {},
     "output_type": "execute_result"
    }
   ],
   "source": [
    "data_sizes"
   ]
  },
  {
   "cell_type": "code",
   "execution_count": 5,
   "id": "4603739b",
   "metadata": {},
   "outputs": [],
   "source": [
    "classes = ['airplane', 'automobile', 'bird', 'cat', 'deer',\n",
    "           'dog', 'frog', 'horse', 'ship', 'truck']"
   ]
  },
  {
   "cell_type": "code",
   "execution_count": 6,
   "id": "3ebb3934",
   "metadata": {},
   "outputs": [],
   "source": [
    "def tensor_to_img(img, upsample=False):\n",
    "    img = img / 2 + 0.5  # unnormalize\n",
    "    return np.transpose(img, (1, 2, 0))  "
   ]
  },
  {
   "cell_type": "code",
   "execution_count": 7,
   "id": "31efb075",
   "metadata": {},
   "outputs": [
    {
     "data": {
      "image/png": "[encoded data removed]",
      "text/plain": [
       "<Figure size 1200x600 with 3 Axes>"
      ]
     },
     "metadata": {},
     "output_type": "display_data"
    }
   ],
   "source": [
    "dataiter = iter(data_loaders[\"train\"])\n",
    "images, labels = dataiter.next()\n",
    "\n",
    "fig = plt.figure(figsize=(12, 6))\n",
    "for idx in np.arange(3):\n",
    "    ax = fig.add_subplot(1, 3, idx+1, xticks=[], yticks=[])\n",
    "    ax.imshow(tensor_to_img(images[idx]))\n",
    "    ax.set_title(f\"{classes[labels[idx]]}\")"
   ]
  },
  {
   "cell_type": "code",
   "execution_count": 8,
   "id": "8712735d",
   "metadata": {},
   "outputs": [
    {
     "name": "stdout",
     "output_type": "stream",
     "text": [
      "CUDA is available...\n"
     ]
    }
   ],
   "source": [
    "cuda = torch.cuda.is_available()\n",
    "\n",
    "if cuda:\n",
    "    print(\"CUDA is available...\")\n",
    "else:\n",
    "    print(\"CUDA is not available!\")"
   ]
  },
  {
   "cell_type": "code",
   "execution_count": 9,
   "id": "903bcdfb",
   "metadata": {},
   "outputs": [],
   "source": [
    "# instantiate model\n",
    "model = MobileNet(classes=10, upsample_input=7)\n",
    "if cuda:\n",
    "    model.cuda()\n",
    "\n",
    "lr = 1e-2\n",
    "decay = 1e-5\n",
    "optimizer = torch.optim.Adam(model.parameters(), lr=lr, weight_decay=decay)\n",
    "criterion = torch.nn.CrossEntropyLoss()"
   ]
  },
  {
   "cell_type": "code",
   "execution_count": 10,
   "id": "63d13af5",
   "metadata": {},
   "outputs": [],
   "source": [
    "# tensorboard logs\n",
    "run = \"run1\"\n",
    "writer =  SummaryWriter(f'logs/{run}')\n",
    "model_path = f\"./models/{run}/\"\n",
    "Path(model_path).mkdir(exist_ok=True)"
   ]
  },
  {
   "cell_type": "code",
   "execution_count": 11,
   "id": "d8d446b1",
   "metadata": {},
   "outputs": [],
   "source": [
    "initial_epochs = 0\n",
    "n_epochs = 20\n",
    "\n",
    "# train(model, data_loaders=data_loaders, data_sizes=data_sizes,\n",
    "#         optimizer=optimizer, criterion=criterion, epochs=n_epochs,\n",
    "#          model_path=model_path, writer=writer, initial_epochs=initial_epochs)"
   ]
  },
  {
   "cell_type": "code",
   "execution_count": 12,
   "id": "d3e8d55b",
   "metadata": {},
   "outputs": [
    {
     "data": {
      "text/plain": [
       "<All keys matched successfully>"
      ]
     },
     "execution_count": 12,
     "metadata": {},
     "output_type": "execute_result"
    }
   ],
   "source": [
    "best_model = r\"./models/run1/model.16-0.4926.pt\"\n",
    "model.load_state_dict(torch.load(best_model))"
   ]
  },
  {
   "cell_type": "code",
   "execution_count": 13,
   "id": "fb07144b",
   "metadata": {},
   "outputs": [
    {
     "name": "stderr",
     "output_type": "stream",
     "text": [
      "100%|████████████████████████████████████████████████████████████████████████████████| 313/313 [00:21<00:00, 14.87it/s]"
     ]
    },
    {
     "name": "stdout",
     "output_type": "stream",
     "text": [
      "Test Accuracy of airplane: 83.00%\n",
      "Test Accuracy of automobile: 88.40%\n",
      "Test Accuracy of bird: 76.70%\n",
      "Test Accuracy of cat: 75.30%\n",
      "Test Accuracy of deer: 77.90%\n",
      "Test Accuracy of dog: 70.30%\n",
      "Test Accuracy of frog: 84.60%\n",
      "Test Accuracy of horse: 90.90%\n",
      "Test Accuracy of ship: 94.30%\n",
      "Test Accuracy of truck: 93.30%\n",
      "Test Accuracy (Overall): 83.47%\n"
     ]
    },
    {
     "name": "stderr",
     "output_type": "stream",
     "text": [
      "\n"
     ]
    }
   ],
   "source": [
    "test(model, data_loaders=data_loaders, writer=writer)"
   ]
  },
  {
   "cell_type": "code",
   "execution_count": null,
   "id": "aca74983",
   "metadata": {},
   "outputs": [],
   "source": []
  }
 ],
 "metadata": {
  "kernelspec": {
   "display_name": "Python 3 (ipykernel)",
   "language": "python",
   "name": "python3"
  },
  "language_info": {
   "codemirror_mode": {
    "name": "ipython",
    "version": 3
   },
   "file_extension": ".py",
   "mimetype": "text/x-python",
   "name": "python",
   "nbconvert_exporter": "python",
   "pygments_lexer": "ipython3",
   "version": "3.10.6"
  },
  "vscode": {
   "interpreter": {
    "hash": "570feb405e2e27c949193ac68f46852414290d515b0ba6e5d90d076ed2284471"
   }
  }
 },
 "nbformat": 4,
 "nbformat_minor": 5
}
