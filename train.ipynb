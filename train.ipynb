{
 "cells": [
  {
   "cell_type": "code",
   "execution_count": 2,
   "id": "5fe4d016",
   "metadata": {},
   "outputs": [],
   "source": [
    "import torch\n",
    "import numpy as np\n",
    "from models import MobileNetMini\n",
    "from datasets import train_data, augment_data, AugDataset, get_loaders\n",
    "from utils import train, test\n",
    "from pathlib import Path\n",
    "from torch.utils.tensorboard import SummaryWriter\n",
    "from torch.utils.data import ConcatDataset"
   ]
  },
  {
   "cell_type": "code",
   "execution_count": 3,
   "id": "85a5f8e4",
   "metadata": {},
   "outputs": [
    {
     "data": {
      "text/plain": [
       "50000"
      ]
     },
     "execution_count": 3,
     "metadata": {},
     "output_type": "execute_result"
    }
   ],
   "source": [
    "len(train_data)"
   ]
  },
  {
   "cell_type": "code",
   "execution_count": 4,
   "id": "4a042d4a",
   "metadata": {},
   "outputs": [
    {
     "name": "stdout",
     "output_type": "stream",
     "text": [
      "Augmenting train data...\n"
     ]
    },
    {
     "name": "stderr",
     "output_type": "stream",
     "text": [
      "100%|██████████████████████████████████████████████████████████████████████████| 50000/50000 [00:14<00:00, 3345.02it/s]"
     ]
    },
    {
     "name": "stdout",
     "output_type": "stream",
     "text": [
      "150000\n"
     ]
    },
    {
     "name": "stderr",
     "output_type": "stream",
     "text": [
      "\n"
     ]
    }
   ],
   "source": [
    "# augment train data\n",
    "aug_train = augment_data(train_data)\n",
    "aug_dataset = AugDataset(*aug_train)\n",
    "train_data = ConcatDataset((train_data, aug_dataset))\n",
    "\n",
    "print(len(train_data))"
   ]
  },
  {
   "cell_type": "code",
   "execution_count": 5,
   "id": "a799b438",
   "metadata": {},
   "outputs": [
    {
     "data": {
      "text/plain": [
       "<torch.utils.data.dataset.ConcatDataset at 0x20eef88abc0>"
      ]
     },
     "execution_count": 5,
     "metadata": {},
     "output_type": "execute_result"
    }
   ],
   "source": [
    "train_data"
   ]
  },
  {
   "cell_type": "code",
   "execution_count": 6,
   "id": "7c0b413f",
   "metadata": {},
   "outputs": [],
   "source": [
    "batch_size = 64\n",
    "data_loaders, data_sizes = get_loaders(train_data, batch_size=batch_size, val_size=0.1)"
   ]
  },
  {
   "cell_type": "code",
   "execution_count": 7,
   "id": "ca994357",
   "metadata": {},
   "outputs": [
    {
     "data": {
      "text/plain": [
       "{'train': <torch.utils.data.dataloader.DataLoader at 0x20eefe2c550>,\n",
       " 'val': <torch.utils.data.dataloader.DataLoader at 0x20eef946bf0>,\n",
       " 'test': <torch.utils.data.dataloader.DataLoader at 0x20eefafba30>}"
      ]
     },
     "execution_count": 7,
     "metadata": {},
     "output_type": "execute_result"
    }
   ],
   "source": [
    "data_loaders"
   ]
  },
  {
   "cell_type": "code",
   "execution_count": 8,
   "id": "bf604674",
   "metadata": {},
   "outputs": [
    {
     "data": {
      "text/plain": [
       "{'train': 135000, 'val': 15000, 'test': 10000}"
      ]
     },
     "execution_count": 8,
     "metadata": {},
     "output_type": "execute_result"
    }
   ],
   "source": [
    "data_sizes"
   ]
  },
  {
   "cell_type": "code",
   "execution_count": 9,
   "id": "8712735d",
   "metadata": {},
   "outputs": [
    {
     "name": "stdout",
     "output_type": "stream",
     "text": [
      "CUDA is available...\n"
     ]
    }
   ],
   "source": [
    "cuda = torch.cuda.is_available()\n",
    "\n",
    "if cuda:\n",
    "    print(\"CUDA is available...\")\n",
    "else:\n",
    "    print(\"CUDA is not available!\")"
   ]
  },
  {
   "cell_type": "code",
   "execution_count": 10,
   "id": "903bcdfb",
   "metadata": {},
   "outputs": [],
   "source": [
    "# instantiate model\n",
    "model = MobileNetMini()\n",
    "if cuda:\n",
    "    model.cuda()\n",
    "\n",
    "lr = 1e-2\n",
    "decay = 1e-5\n",
    "optimizer = torch.optim.Adam(model.parameters(), lr=lr, weight_decay=decay)\n",
    "criterion = torch.nn.CrossEntropyLoss()"
   ]
  },
  {
   "cell_type": "code",
   "execution_count": 11,
   "id": "63d13af5",
   "metadata": {},
   "outputs": [],
   "source": [
    "# tensorboard logs\n",
    "run = \"run1\"\n",
    "writer =  SummaryWriter(f'logs/{run}')\n",
    "model_path = f\"./models/{run}/\"\n",
    "Path(model_path).mkdir(exist_ok=True)"
   ]
  },
  {
   "cell_type": "code",
   "execution_count": 12,
   "id": "d8d446b1",
   "metadata": {},
   "outputs": [
    {
     "name": "stderr",
     "output_type": "stream",
     "text": [
      "100%|██████████████████████████████████████████████████████████████████████████████| 2110/2110 [01:00<00:00, 35.16it/s]\n",
      "100%|███████████████████████████████████████████████████████████████████████████████| 235/235 [00:02<00:00, 114.57it/s]\n"
     ]
    },
    {
     "name": "stdout",
     "output_type": "stream",
     "text": [
      "Epoch 1/30: loss- 1.388, acc- 0.481, val_loss- 1.424, val_acc- 0.522\n",
      "val_loss decreased from inf to 1.4241. saving model ...\n"
     ]
    },
    {
     "name": "stderr",
     "output_type": "stream",
     "text": [
      "100%|██████████████████████████████████████████████████████████████████████████████| 2110/2110 [00:53<00:00, 39.20it/s]\n",
      "100%|███████████████████████████████████████████████████████████████████████████████| 235/235 [00:02<00:00, 111.97it/s]\n"
     ]
    },
    {
     "name": "stdout",
     "output_type": "stream",
     "text": [
      "Epoch 2/30: loss- 1.010, acc- 0.635, val_loss- 1.393, val_acc- 0.535\n",
      "val_loss decreased from 1.4241 to 1.3935. saving model ...\n"
     ]
    },
    {
     "name": "stderr",
     "output_type": "stream",
     "text": [
      "100%|██████████████████████████████████████████████████████████████████████████████| 2110/2110 [00:54<00:00, 39.03it/s]\n",
      "100%|███████████████████████████████████████████████████████████████████████████████| 235/235 [00:02<00:00, 114.83it/s]\n"
     ]
    },
    {
     "name": "stdout",
     "output_type": "stream",
     "text": [
      "Epoch 3/30: loss- 0.891, acc- 0.680, val_loss- 0.906, val_acc- 0.677\n",
      "val_loss decreased from 1.3935 to 0.9064. saving model ...\n"
     ]
    },
    {
     "name": "stderr",
     "output_type": "stream",
     "text": [
      "100%|██████████████████████████████████████████████████████████████████████████████| 2110/2110 [00:54<00:00, 39.06it/s]\n",
      "100%|███████████████████████████████████████████████████████████████████████████████| 235/235 [00:02<00:00, 108.32it/s]\n"
     ]
    },
    {
     "name": "stdout",
     "output_type": "stream",
     "text": [
      "Epoch 4/30: loss- 0.830, acc- 0.703, val_loss- 0.972, val_acc- 0.658\n"
     ]
    },
    {
     "name": "stderr",
     "output_type": "stream",
     "text": [
      "100%|██████████████████████████████████████████████████████████████████████████████| 2110/2110 [00:54<00:00, 38.89it/s]\n",
      "100%|███████████████████████████████████████████████████████████████████████████████| 235/235 [00:02<00:00, 114.33it/s]\n"
     ]
    },
    {
     "name": "stdout",
     "output_type": "stream",
     "text": [
      "Epoch 5/30: loss- 0.788, acc- 0.719, val_loss- 0.815, val_acc- 0.716\n",
      "val_loss decreased from 0.9064 to 0.8145. saving model ...\n"
     ]
    },
    {
     "name": "stderr",
     "output_type": "stream",
     "text": [
      "100%|██████████████████████████████████████████████████████████████████████████████| 2110/2110 [00:53<00:00, 39.19it/s]\n",
      "100%|███████████████████████████████████████████████████████████████████████████████| 235/235 [00:02<00:00, 116.39it/s]\n"
     ]
    },
    {
     "name": "stdout",
     "output_type": "stream",
     "text": [
      "Epoch 6/30: loss- 0.757, acc- 0.732, val_loss- 0.823, val_acc- 0.709\n"
     ]
    },
    {
     "name": "stderr",
     "output_type": "stream",
     "text": [
      "100%|██████████████████████████████████████████████████████████████████████████████| 2110/2110 [00:55<00:00, 37.98it/s]\n",
      "100%|███████████████████████████████████████████████████████████████████████████████| 235/235 [00:02<00:00, 117.04it/s]\n"
     ]
    },
    {
     "name": "stdout",
     "output_type": "stream",
     "text": [
      "Epoch 7/30: loss- 0.730, acc- 0.741, val_loss- 0.788, val_acc- 0.724\n",
      "val_loss decreased from 0.8145 to 0.7884. saving model ...\n"
     ]
    },
    {
     "name": "stderr",
     "output_type": "stream",
     "text": [
      "100%|██████████████████████████████████████████████████████████████████████████████| 2110/2110 [00:54<00:00, 38.40it/s]\n",
      "100%|███████████████████████████████████████████████████████████████████████████████| 235/235 [00:02<00:00, 108.57it/s]\n"
     ]
    },
    {
     "name": "stdout",
     "output_type": "stream",
     "text": [
      "Epoch 8/30: loss- 0.707, acc- 0.750, val_loss- 0.839, val_acc- 0.712\n"
     ]
    },
    {
     "name": "stderr",
     "output_type": "stream",
     "text": [
      "100%|██████████████████████████████████████████████████████████████████████████████| 2110/2110 [00:55<00:00, 37.71it/s]\n",
      "100%|███████████████████████████████████████████████████████████████████████████████| 235/235 [00:02<00:00, 110.76it/s]\n"
     ]
    },
    {
     "name": "stdout",
     "output_type": "stream",
     "text": [
      "Epoch 9/30: loss- 0.689, acc- 0.758, val_loss- 0.716, val_acc- 0.749\n",
      "val_loss decreased from 0.7884 to 0.7165. saving model ...\n"
     ]
    },
    {
     "name": "stderr",
     "output_type": "stream",
     "text": [
      "100%|██████████████████████████████████████████████████████████████████████████████| 2110/2110 [01:00<00:00, 34.77it/s]\n",
      "100%|███████████████████████████████████████████████████████████████████████████████| 235/235 [00:02<00:00, 108.69it/s]\n"
     ]
    },
    {
     "name": "stdout",
     "output_type": "stream",
     "text": [
      "Epoch 10/30: loss- 0.670, acc- 0.764, val_loss- 0.915, val_acc- 0.684\n"
     ]
    },
    {
     "name": "stderr",
     "output_type": "stream",
     "text": [
      "100%|██████████████████████████████████████████████████████████████████████████████| 2110/2110 [00:56<00:00, 37.58it/s]\n",
      "100%|███████████████████████████████████████████████████████████████████████████████| 235/235 [00:02<00:00, 111.71it/s]\n"
     ]
    },
    {
     "name": "stdout",
     "output_type": "stream",
     "text": [
      "Epoch 11/30: loss- 0.656, acc- 0.770, val_loss- 0.705, val_acc- 0.755\n",
      "val_loss decreased from 0.7165 to 0.7055. saving model ...\n"
     ]
    },
    {
     "name": "stderr",
     "output_type": "stream",
     "text": [
      "100%|██████████████████████████████████████████████████████████████████████████████| 2110/2110 [00:54<00:00, 38.58it/s]\n",
      "100%|███████████████████████████████████████████████████████████████████████████████| 235/235 [00:02<00:00, 111.27it/s]\n"
     ]
    },
    {
     "name": "stdout",
     "output_type": "stream",
     "text": [
      "Epoch 12/30: loss- 0.644, acc- 0.774, val_loss- 0.707, val_acc- 0.752\n"
     ]
    },
    {
     "name": "stderr",
     "output_type": "stream",
     "text": [
      "100%|██████████████████████████████████████████████████████████████████████████████| 2110/2110 [00:54<00:00, 38.44it/s]\n",
      "100%|███████████████████████████████████████████████████████████████████████████████| 235/235 [00:02<00:00, 112.26it/s]\n"
     ]
    },
    {
     "name": "stdout",
     "output_type": "stream",
     "text": [
      "Epoch 13/30: loss- 0.633, acc- 0.777, val_loss- 0.662, val_acc- 0.767\n",
      "val_loss decreased from 0.7055 to 0.6624. saving model ...\n"
     ]
    },
    {
     "name": "stderr",
     "output_type": "stream",
     "text": [
      "100%|██████████████████████████████████████████████████████████████████████████████| 2110/2110 [00:54<00:00, 38.67it/s]\n",
      "100%|███████████████████████████████████████████████████████████████████████████████| 235/235 [00:02<00:00, 113.01it/s]\n"
     ]
    },
    {
     "name": "stdout",
     "output_type": "stream",
     "text": [
      "Epoch 14/30: loss- 0.627, acc- 0.780, val_loss- 0.688, val_acc- 0.759\n"
     ]
    },
    {
     "name": "stderr",
     "output_type": "stream",
     "text": [
      "100%|██████████████████████████████████████████████████████████████████████████████| 2110/2110 [00:54<00:00, 39.02it/s]\n",
      "100%|███████████████████████████████████████████████████████████████████████████████| 235/235 [00:02<00:00, 115.17it/s]\n"
     ]
    },
    {
     "name": "stdout",
     "output_type": "stream",
     "text": [
      "Epoch 15/30: loss- 0.615, acc- 0.785, val_loss- 0.658, val_acc- 0.769\n",
      "val_loss decreased from 0.6624 to 0.6581. saving model ...\n"
     ]
    },
    {
     "name": "stderr",
     "output_type": "stream",
     "text": [
      "100%|██████████████████████████████████████████████████████████████████████████████| 2110/2110 [00:54<00:00, 38.93it/s]\n",
      "100%|███████████████████████████████████████████████████████████████████████████████| 235/235 [00:02<00:00, 115.11it/s]\n"
     ]
    },
    {
     "name": "stdout",
     "output_type": "stream",
     "text": [
      "Epoch 16/30: loss- 0.608, acc- 0.786, val_loss- 0.679, val_acc- 0.764\n"
     ]
    },
    {
     "name": "stderr",
     "output_type": "stream",
     "text": [
      "100%|██████████████████████████████████████████████████████████████████████████████| 2110/2110 [00:54<00:00, 38.88it/s]\n",
      "100%|███████████████████████████████████████████████████████████████████████████████| 235/235 [00:02<00:00, 115.17it/s]\n"
     ]
    },
    {
     "name": "stdout",
     "output_type": "stream",
     "text": [
      "Epoch 17/30: loss- 0.600, acc- 0.788, val_loss- 0.635, val_acc- 0.776\n",
      "val_loss decreased from 0.6581 to 0.6346. saving model ...\n"
     ]
    },
    {
     "name": "stderr",
     "output_type": "stream",
     "text": [
      "100%|██████████████████████████████████████████████████████████████████████████████| 2110/2110 [00:53<00:00, 39.12it/s]\n",
      "100%|███████████████████████████████████████████████████████████████████████████████| 235/235 [00:02<00:00, 115.18it/s]\n"
     ]
    },
    {
     "name": "stdout",
     "output_type": "stream",
     "text": [
      "Epoch 18/30: loss- 0.595, acc- 0.791, val_loss- 0.635, val_acc- 0.776\n"
     ]
    },
    {
     "name": "stderr",
     "output_type": "stream",
     "text": [
      "100%|██████████████████████████████████████████████████████████████████████████████| 2110/2110 [00:53<00:00, 39.33it/s]\n",
      "100%|███████████████████████████████████████████████████████████████████████████████| 235/235 [00:02<00:00, 115.67it/s]\n"
     ]
    },
    {
     "name": "stdout",
     "output_type": "stream",
     "text": [
      "Epoch 19/30: loss- 0.588, acc- 0.793, val_loss- 0.700, val_acc- 0.758\n"
     ]
    },
    {
     "name": "stderr",
     "output_type": "stream",
     "text": [
      "100%|██████████████████████████████████████████████████████████████████████████████| 2110/2110 [00:53<00:00, 39.12it/s]\n",
      "100%|███████████████████████████████████████████████████████████████████████████████| 235/235 [00:02<00:00, 111.49it/s]\n"
     ]
    },
    {
     "name": "stdout",
     "output_type": "stream",
     "text": [
      "Epoch 20/30: loss- 0.582, acc- 0.796, val_loss- 0.626, val_acc- 0.776\n",
      "val_loss decreased from 0.6346 to 0.6256. saving model ...\n"
     ]
    },
    {
     "name": "stderr",
     "output_type": "stream",
     "text": [
      "100%|██████████████████████████████████████████████████████████████████████████████| 2110/2110 [01:00<00:00, 35.07it/s]\n",
      "100%|███████████████████████████████████████████████████████████████████████████████| 235/235 [00:02<00:00, 110.57it/s]\n"
     ]
    },
    {
     "name": "stdout",
     "output_type": "stream",
     "text": [
      "Epoch 21/30: loss- 0.578, acc- 0.797, val_loss- 0.603, val_acc- 0.790\n",
      "val_loss decreased from 0.6256 to 0.6030. saving model ...\n"
     ]
    },
    {
     "name": "stderr",
     "output_type": "stream",
     "text": [
      "100%|██████████████████████████████████████████████████████████████████████████████| 2110/2110 [00:55<00:00, 37.82it/s]\n",
      "100%|███████████████████████████████████████████████████████████████████████████████| 235/235 [00:02<00:00, 109.56it/s]\n"
     ]
    },
    {
     "name": "stdout",
     "output_type": "stream",
     "text": [
      "Epoch 22/30: loss- 0.573, acc- 0.800, val_loss- 0.660, val_acc- 0.768\n"
     ]
    },
    {
     "name": "stderr",
     "output_type": "stream",
     "text": [
      "100%|██████████████████████████████████████████████████████████████████████████████| 2110/2110 [00:57<00:00, 36.79it/s]\n",
      "100%|███████████████████████████████████████████████████████████████████████████████| 235/235 [00:02<00:00, 108.16it/s]\n"
     ]
    },
    {
     "name": "stdout",
     "output_type": "stream",
     "text": [
      "Epoch 23/30: loss- 0.566, acc- 0.802, val_loss- 0.626, val_acc- 0.781\n"
     ]
    },
    {
     "name": "stderr",
     "output_type": "stream",
     "text": [
      "100%|██████████████████████████████████████████████████████████████████████████████| 2110/2110 [01:01<00:00, 34.52it/s]\n",
      "100%|███████████████████████████████████████████████████████████████████████████████| 235/235 [00:02<00:00, 100.07it/s]\n"
     ]
    },
    {
     "name": "stdout",
     "output_type": "stream",
     "text": [
      "Epoch 24/30: loss- 0.568, acc- 0.802, val_loss- 0.595, val_acc- 0.789\n",
      "val_loss decreased from 0.6030 to 0.5952. saving model ...\n"
     ]
    },
    {
     "name": "stderr",
     "output_type": "stream",
     "text": [
      "100%|██████████████████████████████████████████████████████████████████████████████| 2110/2110 [00:58<00:00, 35.96it/s]\n",
      "100%|███████████████████████████████████████████████████████████████████████████████| 235/235 [00:02<00:00, 103.74it/s]\n"
     ]
    },
    {
     "name": "stdout",
     "output_type": "stream",
     "text": [
      "Epoch 25/30: loss- 0.562, acc- 0.803, val_loss- 0.657, val_acc- 0.775\n"
     ]
    },
    {
     "name": "stderr",
     "output_type": "stream",
     "text": [
      "100%|██████████████████████████████████████████████████████████████████████████████| 2110/2110 [00:57<00:00, 36.46it/s]\n",
      "100%|███████████████████████████████████████████████████████████████████████████████| 235/235 [00:02<00:00, 101.40it/s]\n"
     ]
    },
    {
     "name": "stdout",
     "output_type": "stream",
     "text": [
      "Epoch 26/30: loss- 0.558, acc- 0.804, val_loss- 0.654, val_acc- 0.772\n"
     ]
    },
    {
     "name": "stderr",
     "output_type": "stream",
     "text": [
      "100%|██████████████████████████████████████████████████████████████████████████████| 2110/2110 [00:57<00:00, 36.52it/s]\n",
      "100%|███████████████████████████████████████████████████████████████████████████████| 235/235 [00:02<00:00, 112.96it/s]\n"
     ]
    },
    {
     "name": "stdout",
     "output_type": "stream",
     "text": [
      "Epoch 27/30: loss- 0.554, acc- 0.805, val_loss- 0.619, val_acc- 0.782\n"
     ]
    },
    {
     "name": "stderr",
     "output_type": "stream",
     "text": [
      "100%|██████████████████████████████████████████████████████████████████████████████| 2110/2110 [00:58<00:00, 36.18it/s]\n",
      "100%|███████████████████████████████████████████████████████████████████████████████| 235/235 [00:02<00:00, 106.76it/s]\n"
     ]
    },
    {
     "name": "stdout",
     "output_type": "stream",
     "text": [
      "Epoch 28/30: loss- 0.553, acc- 0.805, val_loss- 0.561, val_acc- 0.803\n",
      "val_loss decreased from 0.5952 to 0.5611. saving model ...\n"
     ]
    },
    {
     "name": "stderr",
     "output_type": "stream",
     "text": [
      "100%|██████████████████████████████████████████████████████████████████████████████| 2110/2110 [00:56<00:00, 37.22it/s]\n",
      "100%|███████████████████████████████████████████████████████████████████████████████| 235/235 [00:02<00:00, 108.56it/s]\n"
     ]
    },
    {
     "name": "stdout",
     "output_type": "stream",
     "text": [
      "Epoch 29/30: loss- 0.548, acc- 0.807, val_loss- 0.583, val_acc- 0.796\n"
     ]
    },
    {
     "name": "stderr",
     "output_type": "stream",
     "text": [
      "100%|██████████████████████████████████████████████████████████████████████████████| 2110/2110 [00:56<00:00, 37.20it/s]\n",
      "100%|███████████████████████████████████████████████████████████████████████████████| 235/235 [00:02<00:00, 109.89it/s]"
     ]
    },
    {
     "name": "stdout",
     "output_type": "stream",
     "text": [
      "Epoch 30/30: loss- 0.545, acc- 0.808, val_loss- 0.605, val_acc- 0.788\n"
     ]
    },
    {
     "name": "stderr",
     "output_type": "stream",
     "text": [
      "\n"
     ]
    }
   ],
   "source": [
    "initial_epochs = 0\n",
    "n_epochs = 30\n",
    "\n",
    "train(model, data_loaders=data_loaders, data_sizes=data_sizes,\n",
    "        optimizer=optimizer, criterion=criterion, epochs=n_epochs,\n",
    "         model_path=model_path, writer=writer, initial_epochs=initial_epochs)"
   ]
  },
  {
   "cell_type": "code",
   "execution_count": 13,
   "id": "d3e8d55b",
   "metadata": {},
   "outputs": [
    {
     "data": {
      "text/plain": [
       "<All keys matched successfully>"
      ]
     },
     "execution_count": 13,
     "metadata": {},
     "output_type": "execute_result"
    }
   ],
   "source": [
    "best_model = r\"./models/run1/model.28-0.5611.pt\"\n",
    "model.load_state_dict(torch.load(best_model))"
   ]
  },
  {
   "cell_type": "code",
   "execution_count": 14,
   "id": "fb07144b",
   "metadata": {},
   "outputs": [
    {
     "name": "stderr",
     "output_type": "stream",
     "text": [
      "100%|████████████████████████████████████████████████████████████████████████████████| 157/157 [00:03<00:00, 39.63it/s]"
     ]
    },
    {
     "name": "stdout",
     "output_type": "stream",
     "text": [
      "Test Accuracy of airplane: 75.40%\n",
      "Test Accuracy of automobile: 92.00%\n",
      "Test Accuracy of bird: 79.70%\n",
      "Test Accuracy of cat: 65.30%\n",
      "Test Accuracy of deer: 76.60%\n",
      "Test Accuracy of dog: 68.00%\n",
      "Test Accuracy of frog: 87.60%\n",
      "Test Accuracy of horse: 80.40%\n",
      "Test Accuracy of ship: 90.90%\n",
      "Test Accuracy of truck: 83.80%\n",
      "Test Accuracy (Overall): 79.97%\n"
     ]
    },
    {
     "name": "stderr",
     "output_type": "stream",
     "text": [
      "\n"
     ]
    }
   ],
   "source": [
    "test(model, data_loaders=data_loaders, writer=writer)"
   ]
  },
  {
   "cell_type": "code",
   "execution_count": null,
   "id": "aca74983",
   "metadata": {},
   "outputs": [],
   "source": []
  }
 ],
 "metadata": {
  "kernelspec": {
   "display_name": "Python 3.8.2 64-bit",
   "language": "python",
   "name": "python3"
  },
  "language_info": {
   "codemirror_mode": {
    "name": "ipython",
    "version": 3
   },
   "file_extension": ".py",
   "mimetype": "text/x-python",
   "name": "python",
   "nbconvert_exporter": "python",
   "pygments_lexer": "ipython3",
   "version": "3.8.2"
  },
  "vscode": {
   "interpreter": {
    "hash": "570feb405e2e27c949193ac68f46852414290d515b0ba6e5d90d076ed2284471"
   }
  }
 },
 "nbformat": 4,
 "nbformat_minor": 5
}
